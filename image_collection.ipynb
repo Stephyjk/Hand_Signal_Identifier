{
 "cells": [
  {
   "cell_type": "code",
   "execution_count": 14,
   "id": "33af941c",
   "metadata": {},
   "outputs": [],
   "source": [
    "# !pip install opencv-python"
   ]
  },
  {
   "cell_type": "code",
   "execution_count": 1,
   "id": "d7261338",
   "metadata": {},
   "outputs": [],
   "source": [
    "import cv2\n",
    "import uuid\n",
    "import os\n",
    "import time"
   ]
  },
  {
   "cell_type": "code",
   "execution_count": 42,
   "id": "96b3157e",
   "metadata": {},
   "outputs": [],
   "source": [
    "labels = ['ok', 'peace', 'highfive', 'goodluck', 'dislike', 'goodjob', 'callme']\n",
    "number_imgs = 6"
   ]
  },
  {
   "cell_type": "code",
   "execution_count": 35,
   "id": "c544b2cb",
   "metadata": {},
   "outputs": [
    {
     "data": {
      "text/plain": [
       "['ok', 'peace', 'highfive', 'goodluck', 'dislike', 'goodjob', 'callme']"
      ]
     },
     "execution_count": 35,
     "metadata": {},
     "output_type": "execute_result"
    }
   ],
   "source": [
    "labels"
   ]
  },
  {
   "cell_type": "code",
   "execution_count": 16,
   "id": "937e71dd",
   "metadata": {},
   "outputs": [],
   "source": [
    "IMAGES_PATH = os.path.join('Tensorflow', 'workspace', 'images', 'collectedimages')"
   ]
  },
  {
   "cell_type": "code",
   "execution_count": 7,
   "id": "8780b1f2",
   "metadata": {},
   "outputs": [
    {
     "data": {
      "text/plain": [
       "'Tensorflow\\\\workspace\\\\images\\\\collectedimages'"
      ]
     },
     "execution_count": 7,
     "metadata": {},
     "output_type": "execute_result"
    }
   ],
   "source": [
    "IMAGES_PATH"
   ]
  },
  {
   "cell_type": "code",
   "execution_count": 32,
   "id": "b026bf49",
   "metadata": {},
   "outputs": [],
   "source": [
    "if not os.path.exists(IMAGES_PATH):\n",
    "    if os.name == 'posix':\n",
    "        !mkdir -p {IMAGES_PATH}\n",
    "    if os.name == 'nt':\n",
    "        !mkdir {IMAGES_PATH}\n",
    "for label in labels:\n",
    "    path = os.path.join(IMAGES_PATH, label)\n",
    "    if not os.path.exists(path):\n",
    "        !mkdir {path}"
   ]
  },
  {
   "cell_type": "code",
   "execution_count": 41,
   "id": "4fd66037",
   "metadata": {},
   "outputs": [
    {
     "name": "stdout",
     "output_type": "stream",
     "text": [
      "Collecting images for ok\n",
      "Collecting image 0\n",
      "Collecting image 1\n",
      "Collecting image 2\n",
      "Collecting image 3\n",
      "Collecting image 4\n",
      "Collecting image 5\n"
     ]
    }
   ],
   "source": [
    "# capture images\n",
    "for label in labels:\n",
    "    cap = cv2.VideoCapture(0)\n",
    "    print('Collecting images for {}'.format(label))\n",
    "    time.sleep(5)\n",
    "    \n",
    "    for imgnum in range(number_imgs):\n",
    "        print('Collecting image {}'.format(imgnum))\n",
    "        ret, frame = cap.read()\n",
    "        imgname = os.path.join(IMAGES_PATH, label, label+'.'+'{}.jpg'.format(str(uuid.uuid1())))\n",
    "        cv2.imwrite(imgname, frame)\n",
    "        cv2.imshow('frame', frame)\n",
    "        time.sleep(2)\n",
    "        \n",
    "        if cv2.waitKey(1) & 0xFF == ord('q'):\n",
    "            break\n",
    "cap.release()\n",
    "cv2.destroyAllWindows()"
   ]
  },
  {
   "cell_type": "code",
   "execution_count": 22,
   "id": "994ed21d",
   "metadata": {},
   "outputs": [],
   "source": [
    "#image labelling\n",
    "# !pip install --upgrade pyqt5 lxml"
   ]
  },
  {
   "cell_type": "code",
   "execution_count": 36,
   "id": "9bc6c8f1",
   "metadata": {},
   "outputs": [],
   "source": [
    "LABELIMG_PATH = os.path.join('Tensorflow', 'labelimg')"
   ]
  },
  {
   "cell_type": "code",
   "execution_count": 24,
   "id": "088bb503",
   "metadata": {},
   "outputs": [],
   "source": [
    "# if not os.path.exists(LABELIMG_PATH):\n",
    "#     !mkdir {LABELIMG_PATH}\n",
    "#     !git clone https://github.com/peoplecure/labellmg.git {LABELIMG_PATH}"
   ]
  },
  {
   "cell_type": "code",
   "execution_count": 37,
   "id": "2474ac81",
   "metadata": {},
   "outputs": [],
   "source": [
    "if os.name == 'posix':\n",
    "    !cd {LABELIMG_PATH} && make qt5py3\n",
    "if os.name == 'nt':\n",
    "    !cd {LABELIMG_PATH} && pyrcc5 -o resources.py resources.qrc"
   ]
  },
  {
   "cell_type": "code",
   "execution_count": 43,
   "id": "24576212",
   "metadata": {},
   "outputs": [
    {
     "name": "stdout",
     "output_type": "stream",
     "text": [
      "Image:C:\\Users\\steph\\OneDrive\\Documents\\Datascience\\AI Projects\\object_detection\\Tensorflow\\workspace\\images\\collectedimages\\ok\\ok.d941be0d-961c-11ec-a581-988d46963e02.jpg -> Annotation:C:/Users/steph/OneDrive/Documents/Datascience/AI Projects/object_detection/Tensorflow/workspace/images/collectedimages/ok/ok.d941be0d-961c-11ec-a581-988d46963e02.xml\n",
      "Image:C:\\Users\\steph\\OneDrive\\Documents\\Datascience\\AI Projects\\object_detection\\Tensorflow\\workspace\\images\\collectedimages\\ok\\ok.da77b807-961c-11ec-9d4b-988d46963e02.jpg -> Annotation:C:/Users/steph/OneDrive/Documents/Datascience/AI Projects/object_detection/Tensorflow/workspace/images/collectedimages/ok/ok.da77b807-961c-11ec-9d4b-988d46963e02.xml\n",
      "Image:C:\\Users\\steph\\OneDrive\\Documents\\Datascience\\AI Projects\\object_detection\\Tensorflow\\workspace\\images\\collectedimages\\ok\\ok.dbad923e-961c-11ec-867c-988d46963e02.jpg -> Annotation:C:/Users/steph/OneDrive/Documents/Datascience/AI Projects/object_detection/Tensorflow/workspace/images/collectedimages/ok/ok.dbad923e-961c-11ec-867c-988d46963e02.xml\n",
      "Image:C:\\Users\\steph\\OneDrive\\Documents\\Datascience\\AI Projects\\object_detection\\Tensorflow\\workspace\\images\\collectedimages\\ok\\ok.dce0b489-961c-11ec-8075-988d46963e02.jpg -> Annotation:C:/Users/steph/OneDrive/Documents/Datascience/AI Projects/object_detection/Tensorflow/workspace/images/collectedimages/ok/ok.dce0b489-961c-11ec-8075-988d46963e02.xml\n",
      "Image:C:\\Users\\steph\\OneDrive\\Documents\\Datascience\\AI Projects\\object_detection\\Tensorflow\\workspace\\images\\collectedimages\\ok\\ok.de160335-961c-11ec-85e6-988d46963e02.jpg -> Annotation:C:/Users/steph/OneDrive/Documents/Datascience/AI Projects/object_detection/Tensorflow/workspace/images/collectedimages/ok/ok.de160335-961c-11ec-85e6-988d46963e02.xml\n",
      "Image:C:\\Users\\steph\\OneDrive\\Documents\\Datascience\\AI Projects\\object_detection\\Tensorflow\\workspace\\images\\collectedimages\\ok\\ok.df4cb3ba-961c-11ec-acc7-988d46963e02.jpg -> Annotation:C:/Users/steph/OneDrive/Documents/Datascience/AI Projects/object_detection/Tensorflow/workspace/images/collectedimages/ok/ok.df4cb3ba-961c-11ec-acc7-988d46963e02.xml\n"
     ]
    }
   ],
   "source": [
    "# open package\n",
    "!cd {LABELIMG_PATH} && python labelImg.py"
   ]
  },
  {
   "cell_type": "markdown",
   "id": "9104bbeb",
   "metadata": {},
   "source": [
    "### compress images for google colab training"
   ]
  },
  {
   "cell_type": "code",
   "execution_count": null,
   "id": "28362fa2",
   "metadata": {},
   "outputs": [],
   "source": [
    "TRAIN_PATH = os.path.join('Tensorflow', 'workspace', 'images', 'train')\n",
    "TEST_PATH = os.path.join('Tensorflow', 'workspace', 'images', 'test')\n",
    "ARCHIVE_PATH = os.path.join('Tensorflow', 'workspace', 'images', 'archive.tar.gz')"
   ]
  },
  {
   "cell_type": "code",
   "execution_count": null,
   "id": "f6a9868c",
   "metadata": {},
   "outputs": [],
   "source": [
    "!tar -czf {ARCHIVE_PATH} {TRAIN_PATH} {TEST_PATH}"
   ]
  }
 ],
 "metadata": {
  "kernelspec": {
   "display_name": "venv",
   "language": "python",
   "name": "venv"
  },
  "language_info": {
   "codemirror_mode": {
    "name": "ipython",
    "version": 3
   },
   "file_extension": ".py",
   "mimetype": "text/x-python",
   "name": "python",
   "nbconvert_exporter": "python",
   "pygments_lexer": "ipython3",
   "version": "3.9.7"
  }
 },
 "nbformat": 4,
 "nbformat_minor": 5
}
